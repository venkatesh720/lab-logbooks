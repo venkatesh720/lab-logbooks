{
  "nbformat": 4,
  "nbformat_minor": 0,
  "metadata": {
    "colab": {
      "provenance": []
    },
    "kernelspec": {
      "name": "python3",
      "display_name": "Python 3"
    },
    "language_info": {
      "name": "python"
    }
  },
  "cells": [
    {
      "cell_type": "code",
      "execution_count": null,
      "metadata": {
        "id": "s8WJFFIcLjmT"
      },
      "outputs": [],
      "source": [
        "import pandas as pd\n",
        "\n",
        "df = pd.read_csv(\"/content/adult_data_mini.csv\")\n",
        "\n",
        "print(\"=== ORIGINAL DATA (first 5 rows) ===\")\n",
        "print(df.head(), \"\\n\")\n",
        "\n",
        "sid = 2461075\n",
        "n = sid % 10\n",
        "if n == 0:\n",
        "    n = 10\n",
        "\n",
        "def reduce_hours(x):\n",
        "    return x - n\n",
        "\n",
        "df['reduced_hours'] = df['hours-per-week'].apply(reduce_hours)\n",
        "\n",
        "grouped = df.groupby(['relationship', 'reduced_hours']).size().reset_index(name='count')\n",
        "\n",
        "# Display results\n",
        "print(\"=== DATA AFTER APPLYING reduce_hours FUNCTION (first 5 rows) ===\")\n",
        "print(df.head(), \"\\n\")\n",
        "\n",
        "print(\"=== GROUPED SUMMARY BY relationship AND reduced_hours ===\")\n",
        "print(grouped.head(), \"\\n\")\n",
        "\n",
        "print(f\"Reduction applied per person: {n} hours (SID = {sid})\")\n"
      ]
    }
  ]
}
